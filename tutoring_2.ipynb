{
 "cells": [
  {
   "cell_type": "code",
   "execution_count": 42,
   "metadata": {},
   "outputs": [],
   "source": [
    "#  라이브러리 로드 \n",
    "import pandas as pd\n",
    "import numpy as np\n",
    "import matplotlib.pyplot as plt\n",
    "import seaborn as sns\n",
    "\n",
    "# 데이터 로드 \n",
    "train = pd.read_csv(\"./datasets/train.csv\")"
   ]
  },
  {
   "attachments": {},
   "cell_type": "markdown",
   "metadata": {},
   "source": [
    "- PassengerId : 탑승객의 고유 아이디\n",
    "- Survival : 생존여부(0: 사망, 1: 생존)\n",
    "- Pclass : 등실의 등급(1: 1등급, 2: 2등급, 3: 3등급)\n",
    "- Name : 이름\n",
    "- Sex : 성별\n",
    "- Age : 나이\n",
    "- Sibsp : 함께 탑승한 형제자매, 아내 남편의 수\n",
    "- Parch: 함께 탑승한 부모, 자식의 수\n",
    "- Ticket: 티켓번호\n",
    "- Fare: 티켓의 요금\n",
    "- Cabin: 객실번호\n",
    "- Embarked: 배에 탑승한 위치(C = Cherbourg, Q = Queenstown, S = Southampton)"
   ]
  },
  {
   "attachments": {},
   "cell_type": "markdown",
   "metadata": {},
   "source": [
    "# EDA & 데이터 전처리\n",
    "\n",
    "- 데이터 확인 \n",
    "- 기술통계 확인 \n",
    "- 결측치 확인 & 처리\n",
    "- 무한대 값, 중복된는 값 확인 & 처리 \n",
    "- 이상치 확인 & 처리\n",
    "- 변수간 상관관계 분석\n",
    "- 데이터 스케일링\n",
    "---"
   ]
  },
  {
   "attachments": {},
   "cell_type": "markdown",
   "metadata": {},
   "source": [
    "## 데이터 확인\n",
    "\n",
    "    데이터 행 열 수 확인 \n",
    "    df.shape\n",
    "\n",
    "    데이터 컬럼명 확인\n",
    "    df.columns\n",
    "\n",
    "    데이터 컬럼별 정보 확인 (데이터 타입, non-null의 수)\n",
    "    df.info()\n",
    "\n"
   ]
  },
  {
   "cell_type": "code",
   "execution_count": 43,
   "metadata": {},
   "outputs": [
    {
     "name": "stdout",
     "output_type": "stream",
     "text": [
      "(891, 12)\n",
      "Index(['PassengerId', 'Survived', 'Pclass', 'Name', 'Sex', 'Age', 'SibSp',\n",
      "       'Parch', 'Ticket', 'Fare', 'Cabin', 'Embarked'],\n",
      "      dtype='object')\n",
      "<class 'pandas.core.frame.DataFrame'>\n",
      "RangeIndex: 891 entries, 0 to 890\n",
      "Data columns (total 12 columns):\n",
      " #   Column       Non-Null Count  Dtype  \n",
      "---  ------       --------------  -----  \n",
      " 0   PassengerId  891 non-null    int64  \n",
      " 1   Survived     891 non-null    int64  \n",
      " 2   Pclass       891 non-null    int64  \n",
      " 3   Name         891 non-null    object \n",
      " 4   Sex          891 non-null    object \n",
      " 5   Age          714 non-null    float64\n",
      " 6   SibSp        891 non-null    int64  \n",
      " 7   Parch        891 non-null    int64  \n",
      " 8   Ticket       891 non-null    object \n",
      " 9   Fare         891 non-null    float64\n",
      " 10  Cabin        204 non-null    object \n",
      " 11  Embarked     889 non-null    object \n",
      "dtypes: float64(2), int64(5), object(5)\n",
      "memory usage: 83.7+ KB\n",
      "None\n"
     ]
    }
   ],
   "source": [
    "# 데이터 확인 \n",
    "print(train.shape)\n",
    "print(train.columns)\n",
    "print(train.info())"
   ]
  },
  {
   "cell_type": "code",
   "execution_count": 44,
   "metadata": {},
   "outputs": [
    {
     "data": {
      "text/plain": [
       "<Axes: >"
      ]
     },
     "execution_count": 44,
     "metadata": {},
     "output_type": "execute_result"
    }
   ],
   "source": [
    "# 시각화를 통한 데이터 확인\n",
    "\n",
    "# train[\"Fare\"].hist()\n",
    "\n",
    "# train[\"Fare\"].plot(kind=\"bar\")\n",
    "\n",
    "train.boxplot()\n",
    "\n",
    "# plt.boxplot(train[\"Fare\"])"
   ]
  },
  {
   "attachments": {},
   "cell_type": "markdown",
   "metadata": {},
   "source": [
    "---\n",
    "## 데이터의 기술 통계량 확인\n",
    "\n",
    "    df.describe()\n",
    "\n",
    "- 숫자형 (int, float) column들의 기술 통계량을 보여주는 함수\n",
    "\n",
    "- 기술통계량이란?\n",
    " - 해당 column을 대표할 수 있는 통계값들을 의미\n",
    " \n",
    " \n",
    "- 기술통계량 종류\n",
    " - count: 해당 column에서 비어 있지 않은 값의 개수\n",
    " - mean: 평균\n",
    " - std: 표준편차\n",
    " - min: 최솟값 (이상치 포함)\n",
    " - 25% (Q1): 전체 데이터를 순서대로 정렬했을 때, 아래에서 부터 1/4번째 지점에 있는 값\n",
    " - 50% (Q2): 중앙값 (전체 데이터를 순서대로 정렬했을 때, 아래에서 부터 2/4번째 지점에 있는 값)\n",
    " - 75% (Q3): 전체 데이터를 순서대로 정렬했을 때, 아래에서 부터 3/4번째 지점에 있는 값\n",
    " - max: 최댓값 (이상치 포함) "
   ]
  },
  {
   "cell_type": "code",
   "execution_count": 45,
   "metadata": {},
   "outputs": [
    {
     "data": {
      "text/html": [
       "<div>\n",
       "<style scoped>\n",
       "    .dataframe tbody tr th:only-of-type {\n",
       "        vertical-align: middle;\n",
       "    }\n",
       "\n",
       "    .dataframe tbody tr th {\n",
       "        vertical-align: top;\n",
       "    }\n",
       "\n",
       "    .dataframe thead th {\n",
       "        text-align: right;\n",
       "    }\n",
       "</style>\n",
       "<table border=\"1\" class=\"dataframe\">\n",
       "  <thead>\n",
       "    <tr style=\"text-align: right;\">\n",
       "      <th></th>\n",
       "      <th>PassengerId</th>\n",
       "      <th>Survived</th>\n",
       "      <th>Pclass</th>\n",
       "      <th>Age</th>\n",
       "      <th>SibSp</th>\n",
       "      <th>Parch</th>\n",
       "      <th>Fare</th>\n",
       "    </tr>\n",
       "  </thead>\n",
       "  <tbody>\n",
       "    <tr>\n",
       "      <th>count</th>\n",
       "      <td>891.000000</td>\n",
       "      <td>891.000000</td>\n",
       "      <td>891.000000</td>\n",
       "      <td>714.000000</td>\n",
       "      <td>891.000000</td>\n",
       "      <td>891.000000</td>\n",
       "      <td>891.000000</td>\n",
       "    </tr>\n",
       "    <tr>\n",
       "      <th>mean</th>\n",
       "      <td>446.000000</td>\n",
       "      <td>0.383838</td>\n",
       "      <td>2.308642</td>\n",
       "      <td>29.699118</td>\n",
       "      <td>0.523008</td>\n",
       "      <td>0.381594</td>\n",
       "      <td>32.204208</td>\n",
       "    </tr>\n",
       "    <tr>\n",
       "      <th>std</th>\n",
       "      <td>257.353842</td>\n",
       "      <td>0.486592</td>\n",
       "      <td>0.836071</td>\n",
       "      <td>14.526497</td>\n",
       "      <td>1.102743</td>\n",
       "      <td>0.806057</td>\n",
       "      <td>49.693429</td>\n",
       "    </tr>\n",
       "    <tr>\n",
       "      <th>min</th>\n",
       "      <td>1.000000</td>\n",
       "      <td>0.000000</td>\n",
       "      <td>1.000000</td>\n",
       "      <td>0.420000</td>\n",
       "      <td>0.000000</td>\n",
       "      <td>0.000000</td>\n",
       "      <td>0.000000</td>\n",
       "    </tr>\n",
       "    <tr>\n",
       "      <th>25%</th>\n",
       "      <td>223.500000</td>\n",
       "      <td>0.000000</td>\n",
       "      <td>2.000000</td>\n",
       "      <td>20.125000</td>\n",
       "      <td>0.000000</td>\n",
       "      <td>0.000000</td>\n",
       "      <td>7.910400</td>\n",
       "    </tr>\n",
       "    <tr>\n",
       "      <th>50%</th>\n",
       "      <td>446.000000</td>\n",
       "      <td>0.000000</td>\n",
       "      <td>3.000000</td>\n",
       "      <td>28.000000</td>\n",
       "      <td>0.000000</td>\n",
       "      <td>0.000000</td>\n",
       "      <td>14.454200</td>\n",
       "    </tr>\n",
       "    <tr>\n",
       "      <th>75%</th>\n",
       "      <td>668.500000</td>\n",
       "      <td>1.000000</td>\n",
       "      <td>3.000000</td>\n",
       "      <td>38.000000</td>\n",
       "      <td>1.000000</td>\n",
       "      <td>0.000000</td>\n",
       "      <td>31.000000</td>\n",
       "    </tr>\n",
       "    <tr>\n",
       "      <th>max</th>\n",
       "      <td>891.000000</td>\n",
       "      <td>1.000000</td>\n",
       "      <td>3.000000</td>\n",
       "      <td>80.000000</td>\n",
       "      <td>8.000000</td>\n",
       "      <td>6.000000</td>\n",
       "      <td>512.329200</td>\n",
       "    </tr>\n",
       "  </tbody>\n",
       "</table>\n",
       "</div>"
      ],
      "text/plain": [
       "       PassengerId    Survived      Pclass         Age       SibSp   \n",
       "count   891.000000  891.000000  891.000000  714.000000  891.000000  \\\n",
       "mean    446.000000    0.383838    2.308642   29.699118    0.523008   \n",
       "std     257.353842    0.486592    0.836071   14.526497    1.102743   \n",
       "min       1.000000    0.000000    1.000000    0.420000    0.000000   \n",
       "25%     223.500000    0.000000    2.000000   20.125000    0.000000   \n",
       "50%     446.000000    0.000000    3.000000   28.000000    0.000000   \n",
       "75%     668.500000    1.000000    3.000000   38.000000    1.000000   \n",
       "max     891.000000    1.000000    3.000000   80.000000    8.000000   \n",
       "\n",
       "            Parch        Fare  \n",
       "count  891.000000  891.000000  \n",
       "mean     0.381594   32.204208  \n",
       "std      0.806057   49.693429  \n",
       "min      0.000000    0.000000  \n",
       "25%      0.000000    7.910400  \n",
       "50%      0.000000   14.454200  \n",
       "75%      0.000000   31.000000  \n",
       "max      6.000000  512.329200  "
      ]
     },
     "execution_count": 45,
     "metadata": {},
     "output_type": "execute_result"
    }
   ],
   "source": [
    "# 데이터 기술 통계량 확인\n",
    "train.describe()"
   ]
  },
  {
   "cell_type": "code",
   "execution_count": 46,
   "metadata": {},
   "outputs": [
    {
     "data": {
      "text/plain": [
       "Embarked\n",
       "S    644\n",
       "C    168\n",
       "Q     77\n",
       "Name: count, dtype: int64"
      ]
     },
     "execution_count": 46,
     "metadata": {},
     "output_type": "execute_result"
    }
   ],
   "source": [
    "# 문자열 데이터 확인\n",
    "train[\"Embarked\"].value_counts()"
   ]
  },
  {
   "attachments": {},
   "cell_type": "markdown",
   "metadata": {},
   "source": [
    "---\n",
    "## 결측치 확인 & 처리\n",
    "\n",
    "    전체 결측치 확인 \n",
    "    df.isna().sum().sum()\n",
    "\n",
    "    컬럼별 결측치 확인 \n",
    "    df.isna().sum()\n",
    "\n",
    "    결측치 데이터 데이터프레임 형식으로 보기\n",
    "    df[df.isna().any(axis=1)]\n",
    "    \n",
    "    삭제\n",
    "    df.dropna(axis = 0, inplace = True)\n",
    "    \n",
    "    대체(중앙값, 평균값, 최빈값)\n",
    "    df.fillna(\"\", inplace = True)\n",
    "\n",
    "    최빈값\n",
    "    from statistics import mode\n",
    "    mode(df[col])"
   ]
  },
  {
   "cell_type": "code",
   "execution_count": 47,
   "metadata": {},
   "outputs": [
    {
     "data": {
      "text/plain": [
       "866"
      ]
     },
     "execution_count": 47,
     "metadata": {},
     "output_type": "execute_result"
    }
   ],
   "source": [
    "# 결측치 확인\n",
    "\n",
    "train.isna().sum().sum()"
   ]
  },
  {
   "cell_type": "code",
   "execution_count": 48,
   "metadata": {},
   "outputs": [
    {
     "data": {
      "text/plain": [
       "PassengerId      0\n",
       "Survived         0\n",
       "Pclass           0\n",
       "Name             0\n",
       "Sex              0\n",
       "Age            177\n",
       "SibSp            0\n",
       "Parch            0\n",
       "Ticket           0\n",
       "Fare             0\n",
       "Cabin          687\n",
       "Embarked         2\n",
       "dtype: int64"
      ]
     },
     "execution_count": 48,
     "metadata": {},
     "output_type": "execute_result"
    }
   ],
   "source": [
    "train.isna().sum()"
   ]
  },
  {
   "cell_type": "code",
   "execution_count": 49,
   "metadata": {},
   "outputs": [],
   "source": [
    "# 결측치 처리\n",
    "#  Age는 평균값 Cabin는 최빈값으로 Embarked의 결측치는 삭제해봅시다! \n",
    "\n",
    "train['Age'].fillna(train['Age'].mean, inplace = True)\n",
    "\n",
    "from statistics import mode\n",
    "train['Cabin'].fillna(train['Cabin'].mode()[0], inplace = True)\n",
    "\n",
    "train['Embarked'].dropna(axis = 0, inplace = True)"
   ]
  },
  {
   "cell_type": "code",
   "execution_count": 50,
   "metadata": {},
   "outputs": [],
   "source": [
    "train.dropna(axis = 0, inplace = True)"
   ]
  },
  {
   "cell_type": "code",
   "execution_count": 51,
   "metadata": {},
   "outputs": [
    {
     "data": {
      "text/plain": [
       "PassengerId    0\n",
       "Survived       0\n",
       "Pclass         0\n",
       "Name           0\n",
       "Sex            0\n",
       "Age            0\n",
       "SibSp          0\n",
       "Parch          0\n",
       "Ticket         0\n",
       "Fare           0\n",
       "Cabin          0\n",
       "Embarked       0\n",
       "dtype: int64"
      ]
     },
     "execution_count": 51,
     "metadata": {},
     "output_type": "execute_result"
    }
   ],
   "source": [
    "train.isna().sum()"
   ]
  },
  {
   "attachments": {},
   "cell_type": "markdown",
   "metadata": {},
   "source": [
    "---\n",
    "## 무한대 값 확인 \n",
    "df[df.isin(np.abs([np.inf])).any(axis=1)]"
   ]
  },
  {
   "cell_type": "code",
   "execution_count": 52,
   "metadata": {},
   "outputs": [
    {
     "data": {
      "text/html": [
       "<div>\n",
       "<style scoped>\n",
       "    .dataframe tbody tr th:only-of-type {\n",
       "        vertical-align: middle;\n",
       "    }\n",
       "\n",
       "    .dataframe tbody tr th {\n",
       "        vertical-align: top;\n",
       "    }\n",
       "\n",
       "    .dataframe thead th {\n",
       "        text-align: right;\n",
       "    }\n",
       "</style>\n",
       "<table border=\"1\" class=\"dataframe\">\n",
       "  <thead>\n",
       "    <tr style=\"text-align: right;\">\n",
       "      <th></th>\n",
       "      <th>PassengerId</th>\n",
       "      <th>Survived</th>\n",
       "      <th>Pclass</th>\n",
       "      <th>Name</th>\n",
       "      <th>Sex</th>\n",
       "      <th>Age</th>\n",
       "      <th>SibSp</th>\n",
       "      <th>Parch</th>\n",
       "      <th>Ticket</th>\n",
       "      <th>Fare</th>\n",
       "      <th>Cabin</th>\n",
       "      <th>Embarked</th>\n",
       "    </tr>\n",
       "  </thead>\n",
       "  <tbody>\n",
       "  </tbody>\n",
       "</table>\n",
       "</div>"
      ],
      "text/plain": [
       "Empty DataFrame\n",
       "Columns: [PassengerId, Survived, Pclass, Name, Sex, Age, SibSp, Parch, Ticket, Fare, Cabin, Embarked]\n",
       "Index: []"
      ]
     },
     "execution_count": 52,
     "metadata": {},
     "output_type": "execute_result"
    }
   ],
   "source": [
    "# 데이터 무한대값 확인\n",
    "train[train.isin(np.abs([np.inf])).any(axis = 1)]"
   ]
  },
  {
   "cell_type": "code",
   "execution_count": 53,
   "metadata": {},
   "outputs": [],
   "source": [
    "# 무한대 값을 가지는 데이터 처리"
   ]
  },
  {
   "attachments": {},
   "cell_type": "markdown",
   "metadata": {},
   "source": [
    "--- \n",
    "## 이상치 확인 & 처리 "
   ]
  },
  {
   "attachments": {},
   "cell_type": "markdown",
   "metadata": {},
   "source": [
    "### IQR을 이용한 이상치 확인 & 처리\n",
    "\n",
    "\n",
    "    quantile_25 = np.percentile(df[column].values, 25)\n",
    "    quantile_75 = np.percentile(df[column].values, 75)\n",
    "\n",
    "    IQR = quantile_75 - quantile_25\n",
    "    IQR_weight = IQR*1.5\n",
    "  \n",
    "    lowest = quantile_25 - IQR_weight\n",
    "    highest = quantile_75 + IQR_weight\n",
    "    \n",
    "    outlier_idx = df[column][ (df[column] < lowest) | (df[column] > highest) ].index"
   ]
  },
  {
   "cell_type": "code",
   "execution_count": 54,
   "metadata": {},
   "outputs": [
    {
     "data": {
      "text/plain": [
       "889"
      ]
     },
     "execution_count": 54,
     "metadata": {},
     "output_type": "execute_result"
    }
   ],
   "source": [
    "train_1 = train.copy()\n",
    "len(train['Fare'])"
   ]
  },
  {
   "cell_type": "code",
   "execution_count": 55,
   "metadata": {},
   "outputs": [],
   "source": [
    "win = train_1.select_dtypes('number')\n",
    "\n",
    "quantile_25 = np.percentile(win['Fare'].values, 25)\n",
    "quantile_75 = np.percentile(win['Fare'].values, 75)\n",
    "\n",
    "IQR = quantile_75 - quantile_25\n",
    "IQR_weight = IQR * 1.5\n",
    "\n",
    "lowest = quantile_25 - IQR_weight\n",
    "highest = quantile_75 + IQR_weight\n",
    "\n",
    "outlier_idx = win['Fare'][(win['Fare'] < lowest) | (win['Fare'] > highest)].index"
   ]
  },
  {
   "cell_type": "code",
   "execution_count": 56,
   "metadata": {},
   "outputs": [
    {
     "data": {
      "text/plain": [
       "775"
      ]
     },
     "execution_count": 56,
     "metadata": {},
     "output_type": "execute_result"
    }
   ],
   "source": [
    "train_1.drop(index = outlier_idx, axis = 0, inplace = True)\n",
    "len(train_1['Fare'])"
   ]
  },
  {
   "cell_type": "code",
   "execution_count": 57,
   "metadata": {},
   "outputs": [
    {
     "data": {
      "image/png": "[encoded data removed]",
      "text/plain": [
       "<Figure size 640x480 with 1 Axes>"
      ]
     },
     "metadata": {},
     "output_type": "display_data"
    }
   ],
   "source": [
    "plt.boxplot(train[\"Fare\"])\n",
    "plt.show()"
   ]
  },
  {
   "cell_type": "code",
   "execution_count": 58,
   "metadata": {},
   "outputs": [
    {
     "data": {
      "text/plain": [
       "257"
      ]
     },
     "execution_count": 58,
     "metadata": {},
     "output_type": "execute_result"
    }
   ],
   "source": [
    "np.argmax(train[\"Fare\"])"
   ]
  },
  {
   "attachments": {},
   "cell_type": "markdown",
   "metadata": {},
   "source": [
    "---\n",
    "### 윈저라이징 (Winsorizing)\n",
    "### 이상치를 제거하는 대신 이상치 값을 분포의 상/하한값으로 대체하는 방식\n",
    "\n",
    "plt.boxplot(df[col])\n",
    "\n",
    "    from scipy.stats.mstats  import winsorize\n",
    "    winsorize(df[col],limits=[0.005, 0.005])\n",
    "\n",
    "plt.boxplot(df[col])"
   ]
  },
  {
   "cell_type": "code",
   "execution_count": 59,
   "metadata": {},
   "outputs": [
    {
     "data": {
      "image/png": "[encoded data removed]",
      "text/plain": [
       "<Figure size 640x480 with 1 Axes>"
      ]
     },
     "metadata": {},
     "output_type": "display_data"
    }
   ],
   "source": [
    "train_1 = train.copy()\n",
    "\n",
    "quantile_5 = np.percentile(train_1[\"Fare\"].values, 99.5)\n",
    "quantile__5 = np.percentile(train_1[\"Fare\"].values, 0.5)\n",
    "\n",
    "train_1.loc[train_1[\"Fare\"] > quantile_5, 'Fare'] = quantile_5\n",
    "train_1.loc[train_1[\"Fare\"] < quantile__5, 'Fare'] = quantile__5\n",
    "\n",
    "plt.boxplot(train_1[\"Fare\"])\n",
    "plt.show()"
   ]
  },
  {
   "cell_type": "code",
   "execution_count": 60,
   "metadata": {},
   "outputs": [
    {
     "data": {
      "image/png": "[encoded data removed]",
      "text/plain": [
       "<Figure size 640x480 with 1 Axes>"
      ]
     },
     "metadata": {},
     "output_type": "display_data"
    }
   ],
   "source": [
    "train_1 = train.copy()\n",
    "\n",
    "quantile_5 = np.percentile(train_1[\"Fare\"].values, 99.5)\n",
    "quantile__5 = np.percentile(train_1[\"Fare\"].values, 0.5)\n",
    "\n",
    "\n",
    "for i in train_1.index:\n",
    "    if train_1.loc[i, \"Fare\"] > quantile_5:\n",
    "        train_1.loc[i, \"Fare\"] = quantile_5\n",
    "    elif train_1.loc[i, \"Fare\"] < quantile__5:\n",
    "        train_1.loc[i, \"Fare\"] = quantile__5\n",
    "    else:\n",
    "        pass\n",
    "\n",
    "plt.boxplot(train_1[\"Fare\"])\n",
    "plt.show()"
   ]
  },
  {
   "cell_type": "code",
   "execution_count": 61,
   "metadata": {},
   "outputs": [],
   "source": [
    "from scipy.stats.mstats import winsorize\n",
    "\n",
    "train_1[\"Fare\"] =  winsorize(train_1[\"Fare\"], limits = [0.05, 0.05])"
   ]
  },
  {
   "cell_type": "code",
   "execution_count": 62,
   "metadata": {},
   "outputs": [
    {
     "data": {
      "image/png": "[encoded data removed]",
      "text/plain": [
       "<Figure size 640x480 with 1 Axes>"
      ]
     },
     "metadata": {},
     "output_type": "display_data"
    }
   ],
   "source": [
    "plt.boxplot(train[\"Fare\"])\n",
    "plt.show()"
   ]
  },
  {
   "cell_type": "code",
   "execution_count": 63,
   "metadata": {},
   "outputs": [
    {
     "data": {
      "image/png": "[encoded data removed]",
      "text/plain": [
       "<Figure size 640x480 with 1 Axes>"
      ]
     },
     "metadata": {},
     "output_type": "display_data"
    }
   ],
   "source": [
    "plt.boxplot(train_1[\"Fare\"])\n",
    "plt.show()"
   ]
  },
  {
   "attachments": {},
   "cell_type": "markdown",
   "metadata": {},
   "source": [
    "---\n",
    "### isolation forest\n",
    "\n",
    "\n",
    "\n",
    "![Untitled](https://github.com/juno-bara/Ubion_Hackathon/assets/124761676/91a51b10-6bd1-4b36-8b6f-5aa5e9b94c4a)\n",
    "\n",
    "\n",
    "\n",
    "    from sklearn.ensemble import IsolationForest\n",
    "\n",
    "    clf = IsolationForest(max_samples=100, contamination = 0.1, random_state=42)\n",
    "    clf.fit(df)\n",
    "\n",
    "    이상치가 아닌 값 추출해서 데이터프레임 \n",
    "    sklearn에서는 predict를 한 결과는 이상치는 -1, 정상치는 1로 반환하여 리턴해줌\n",
    "    isol_df = df[clf.predict(df) != -1]\n",
    "\n"
   ]
  },
  {
   "cell_type": "code",
   "execution_count": 64,
   "metadata": {},
   "outputs": [],
   "source": [
    "train_1 = train.copy()\n",
    "train_1 = train_1.select_dtypes(\"float\")"
   ]
  },
  {
   "cell_type": "code",
   "execution_count": 65,
   "metadata": {},
   "outputs": [
    {
     "name": "stderr",
     "output_type": "stream",
     "text": [
      "C:\\Users\\이은진\\AppData\\Roaming\\Python\\Python311\\site-packages\\sklearn\\base.py:439: UserWarning: X does not have valid feature names, but IsolationForest was fitted with feature names\n",
      "  warnings.warn(\n"
     ]
    },
    {
     "data": {
      "text/html": [
       "<div>\n",
       "<style scoped>\n",
       "    .dataframe tbody tr th:only-of-type {\n",
       "        vertical-align: middle;\n",
       "    }\n",
       "\n",
       "    .dataframe tbody tr th {\n",
       "        vertical-align: top;\n",
       "    }\n",
       "\n",
       "    .dataframe thead th {\n",
       "        text-align: right;\n",
       "    }\n",
       "</style>\n",
       "<table border=\"1\" class=\"dataframe\">\n",
       "  <thead>\n",
       "    <tr style=\"text-align: right;\">\n",
       "      <th></th>\n",
       "      <th>Fare</th>\n",
       "    </tr>\n",
       "  </thead>\n",
       "  <tbody>\n",
       "    <tr>\n",
       "      <th>0</th>\n",
       "      <td>7.2500</td>\n",
       "    </tr>\n",
       "    <tr>\n",
       "      <th>1</th>\n",
       "      <td>71.2833</td>\n",
       "    </tr>\n",
       "    <tr>\n",
       "      <th>2</th>\n",
       "      <td>7.9250</td>\n",
       "    </tr>\n",
       "    <tr>\n",
       "      <th>3</th>\n",
       "      <td>53.1000</td>\n",
       "    </tr>\n",
       "    <tr>\n",
       "      <th>4</th>\n",
       "      <td>8.0500</td>\n",
       "    </tr>\n",
       "    <tr>\n",
       "      <th>...</th>\n",
       "      <td>...</td>\n",
       "    </tr>\n",
       "    <tr>\n",
       "      <th>886</th>\n",
       "      <td>13.0000</td>\n",
       "    </tr>\n",
       "    <tr>\n",
       "      <th>887</th>\n",
       "      <td>30.0000</td>\n",
       "    </tr>\n",
       "    <tr>\n",
       "      <th>888</th>\n",
       "      <td>23.4500</td>\n",
       "    </tr>\n",
       "    <tr>\n",
       "      <th>889</th>\n",
       "      <td>30.0000</td>\n",
       "    </tr>\n",
       "    <tr>\n",
       "      <th>890</th>\n",
       "      <td>7.7500</td>\n",
       "    </tr>\n",
       "  </tbody>\n",
       "</table>\n",
       "<p>800 rows × 1 columns</p>\n",
       "</div>"
      ],
      "text/plain": [
       "        Fare\n",
       "0     7.2500\n",
       "1    71.2833\n",
       "2     7.9250\n",
       "3    53.1000\n",
       "4     8.0500\n",
       "..       ...\n",
       "886  13.0000\n",
       "887  30.0000\n",
       "888  23.4500\n",
       "889  30.0000\n",
       "890   7.7500\n",
       "\n",
       "[800 rows x 1 columns]"
      ]
     },
     "execution_count": 65,
     "metadata": {},
     "output_type": "execute_result"
    }
   ],
   "source": [
    "from sklearn.ensemble import IsolationForest\n",
    "\n",
    "clf = IsolationForest(max_samples = 100, contamination = 0.1, random_state = 42)\n",
    "clf.fit(train_1)\n",
    "\n",
    "isol_train = train_1[clf.predict(train_1) != -1]\n",
    "isol_train"
   ]
  },
  {
   "attachments": {},
   "cell_type": "markdown",
   "metadata": {},
   "source": [
    "---\n",
    "### KMeans\n",
    "\n",
    "\n",
    "    # KMeans 클러스터링을 이용해서 이상치 제거 (for문을 통해 n_clusters=13 도출)\n",
    "    from sklearn.cluster import KMeans\n",
    "    clf = KMeans(n_clusters=2, random_state=156)\n",
    "    clf.fit(df)\n",
    "    df[clf.predict(df)==0]\n",
    "\n",
    "    # 군집화 평가를 위해 실루엣 계수 이용\n",
    "    from sklearn.metrics import silhouette_score\n",
    "    clf = KMeans(n_clusters=2, random_state=156)\n",
    "    clf.fit(df_수치)\n",
    "    df_km = df_수치[clf.predict(df_수치)==0]\n",
    "    label = clf.labels_\n",
    "    score_samples = silhouette_score(df_수치,label)\n",
    "    print('silhouette:',score_samples)"
   ]
  },
  {
   "cell_type": "code",
   "execution_count": 66,
   "metadata": {},
   "outputs": [
    {
     "name": "stderr",
     "output_type": "stream",
     "text": [
      "C:\\Users\\이은진\\AppData\\Roaming\\Python\\Python311\\site-packages\\sklearn\\cluster\\_kmeans.py:870: FutureWarning: The default value of `n_init` will change from 10 to 'auto' in 1.4. Set the value of `n_init` explicitly to suppress the warning\n",
      "  warnings.warn(\n"
     ]
    },
    {
     "data": {
      "text/html": [
       "<div>\n",
       "<style scoped>\n",
       "    .dataframe tbody tr th:only-of-type {\n",
       "        vertical-align: middle;\n",
       "    }\n",
       "\n",
       "    .dataframe tbody tr th {\n",
       "        vertical-align: top;\n",
       "    }\n",
       "\n",
       "    .dataframe thead th {\n",
       "        text-align: right;\n",
       "    }\n",
       "</style>\n",
       "<table border=\"1\" class=\"dataframe\">\n",
       "  <thead>\n",
       "    <tr style=\"text-align: right;\">\n",
       "      <th></th>\n",
       "      <th>Fare</th>\n",
       "    </tr>\n",
       "  </thead>\n",
       "  <tbody>\n",
       "    <tr>\n",
       "      <th>0</th>\n",
       "      <td>7.2500</td>\n",
       "    </tr>\n",
       "    <tr>\n",
       "      <th>1</th>\n",
       "      <td>71.2833</td>\n",
       "    </tr>\n",
       "    <tr>\n",
       "      <th>2</th>\n",
       "      <td>7.9250</td>\n",
       "    </tr>\n",
       "    <tr>\n",
       "      <th>3</th>\n",
       "      <td>53.1000</td>\n",
       "    </tr>\n",
       "    <tr>\n",
       "      <th>4</th>\n",
       "      <td>8.0500</td>\n",
       "    </tr>\n",
       "    <tr>\n",
       "      <th>...</th>\n",
       "      <td>...</td>\n",
       "    </tr>\n",
       "    <tr>\n",
       "      <th>886</th>\n",
       "      <td>13.0000</td>\n",
       "    </tr>\n",
       "    <tr>\n",
       "      <th>887</th>\n",
       "      <td>30.0000</td>\n",
       "    </tr>\n",
       "    <tr>\n",
       "      <th>888</th>\n",
       "      <td>23.4500</td>\n",
       "    </tr>\n",
       "    <tr>\n",
       "      <th>889</th>\n",
       "      <td>30.0000</td>\n",
       "    </tr>\n",
       "    <tr>\n",
       "      <th>890</th>\n",
       "      <td>7.7500</td>\n",
       "    </tr>\n",
       "  </tbody>\n",
       "</table>\n",
       "<p>836 rows × 1 columns</p>\n",
       "</div>"
      ],
      "text/plain": [
       "        Fare\n",
       "0     7.2500\n",
       "1    71.2833\n",
       "2     7.9250\n",
       "3    53.1000\n",
       "4     8.0500\n",
       "..       ...\n",
       "886  13.0000\n",
       "887  30.0000\n",
       "888  23.4500\n",
       "889  30.0000\n",
       "890   7.7500\n",
       "\n",
       "[836 rows x 1 columns]"
      ]
     },
     "execution_count": 66,
     "metadata": {},
     "output_type": "execute_result"
    }
   ],
   "source": [
    "# KMeans 클러스터링을 이용해서 이상치 제거 \n",
    "\n",
    "train_1 = train.copy()\n",
    "train_1 = train_1.select_dtypes('float')\n",
    "\n",
    "from sklearn.cluster import KMeans\n",
    "clf = KMeans(n_clusters = 2, random_state = 156)\n",
    "clf.fit(train_1)\n",
    "train_1[clf.predict(train_1) == 0]"
   ]
  },
  {
   "cell_type": "code",
   "execution_count": 67,
   "metadata": {},
   "outputs": [
    {
     "name": "stderr",
     "output_type": "stream",
     "text": [
      "C:\\Users\\이은진\\AppData\\Roaming\\Python\\Python311\\site-packages\\sklearn\\cluster\\_kmeans.py:870: FutureWarning: The default value of `n_init` will change from 10 to 'auto' in 1.4. Set the value of `n_init` explicitly to suppress the warning\n",
      "  warnings.warn(\n"
     ]
    },
    {
     "name": "stdout",
     "output_type": "stream",
     "text": [
      "silhouette : 0.8357342551494303\n"
     ]
    }
   ],
   "source": [
    "# 군집화 평가를 위해 실루엣 계수 이용\n",
    "\n",
    "from sklearn.metrics import silhouette_score\n",
    "clf = KMeans(n_clusters = 2, random_state = 156)\n",
    "clf.fit(train_1.select_dtypes('float'))\n",
    "df_km = train_1.select_dtypes('float')[clf.predict(train_1.select_dtypes('float')) == 0]\n",
    "label = clf.labels_\n",
    "score_samples = silhouette_score(train_1.select_dtypes('float'), label)\n",
    "print('silhouette :', score_samples)"
   ]
  },
  {
   "attachments": {},
   "cell_type": "markdown",
   "metadata": {},
   "source": [
    "---\n",
    "## 데이터 상관관계 분석\n",
    "\n",
    "    df.corr(\"pearson\")\n",
    "    df.corr(\"kendall\")\n",
    "    df.corr(\"spearman\")\n",
    "\n",
    "\n",
    "    colormap = plt.cm.PuBu\n",
    "    upp_mat = np.triu(df.corr())\n",
    "    plt.figure(figsize=(10, 10))\n",
    "    plt.rcParams['axes.unicode_minus'] = False\n",
    "    plt.rc('font', family=\"Malgun Gothic\")\n",
    "    plt.title(\"Correlation of Features\", y=1.05, size=15)\n",
    "    sns.heatmap(df.corr(), linewidths=0.1, vmax=1.0, vmin=-1.0, square=True,\n",
    "                cmap=colormap, linecolor=\"white\", annot=True, mask=upp_mat)\n",
    "\n",
    "\n",
    "    from statsmodels.stats.outliers_influence import variance_inflation_factor\n",
    "    VIF 출력을 위한 데이터 프레임 형성\n",
    "    vif = pd.DataFrame()\n",
    "\n",
    "    VIF 값과 각 Feature 이름에 대해 설정\n",
    "    vif[\"VIF Factor\"] = [variance_inflation_factor(df.values, i) for i in range(df.shape[1])]\n",
    "    vif[\"features\"] = df.columns \n",
    "\n",
    "    VIF 값이 높은 순으로 정렬\n",
    "    vif = vif.sort_values(by=\"VIF Factor\", ascending=False)\n",
    "    vif = vif.reset_index().drop(columns='index')\n",
    "    vif"
   ]
  },
  {
   "cell_type": "code",
   "execution_count": 68,
   "metadata": {},
   "outputs": [
    {
     "data": {
      "text/html": [
       "<div>\n",
       "<style scoped>\n",
       "    .dataframe tbody tr th:only-of-type {\n",
       "        vertical-align: middle;\n",
       "    }\n",
       "\n",
       "    .dataframe tbody tr th {\n",
       "        vertical-align: top;\n",
       "    }\n",
       "\n",
       "    .dataframe thead th {\n",
       "        text-align: right;\n",
       "    }\n",
       "</style>\n",
       "<table border=\"1\" class=\"dataframe\">\n",
       "  <thead>\n",
       "    <tr style=\"text-align: right;\">\n",
       "      <th></th>\n",
       "      <th>PassengerId</th>\n",
       "      <th>Survived</th>\n",
       "      <th>Pclass</th>\n",
       "      <th>SibSp</th>\n",
       "      <th>Parch</th>\n",
       "      <th>Fare</th>\n",
       "    </tr>\n",
       "  </thead>\n",
       "  <tbody>\n",
       "    <tr>\n",
       "      <th>PassengerId</th>\n",
       "      <td>1.000000</td>\n",
       "      <td>-0.005028</td>\n",
       "      <td>-0.035330</td>\n",
       "      <td>-0.057686</td>\n",
       "      <td>-0.001657</td>\n",
       "      <td>0.012703</td>\n",
       "    </tr>\n",
       "    <tr>\n",
       "      <th>Survived</th>\n",
       "      <td>-0.005028</td>\n",
       "      <td>1.000000</td>\n",
       "      <td>-0.335549</td>\n",
       "      <td>-0.034040</td>\n",
       "      <td>0.083151</td>\n",
       "      <td>0.255290</td>\n",
       "    </tr>\n",
       "    <tr>\n",
       "      <th>Pclass</th>\n",
       "      <td>-0.035330</td>\n",
       "      <td>-0.335549</td>\n",
       "      <td>1.000000</td>\n",
       "      <td>0.081656</td>\n",
       "      <td>0.016824</td>\n",
       "      <td>-0.548193</td>\n",
       "    </tr>\n",
       "    <tr>\n",
       "      <th>SibSp</th>\n",
       "      <td>-0.057686</td>\n",
       "      <td>-0.034040</td>\n",
       "      <td>0.081656</td>\n",
       "      <td>1.000000</td>\n",
       "      <td>0.414542</td>\n",
       "      <td>0.160887</td>\n",
       "    </tr>\n",
       "    <tr>\n",
       "      <th>Parch</th>\n",
       "      <td>-0.001657</td>\n",
       "      <td>0.083151</td>\n",
       "      <td>0.016824</td>\n",
       "      <td>0.414542</td>\n",
       "      <td>1.000000</td>\n",
       "      <td>0.217532</td>\n",
       "    </tr>\n",
       "    <tr>\n",
       "      <th>Fare</th>\n",
       "      <td>0.012703</td>\n",
       "      <td>0.255290</td>\n",
       "      <td>-0.548193</td>\n",
       "      <td>0.160887</td>\n",
       "      <td>0.217532</td>\n",
       "      <td>1.000000</td>\n",
       "    </tr>\n",
       "  </tbody>\n",
       "</table>\n",
       "</div>"
      ],
      "text/plain": [
       "             PassengerId  Survived    Pclass     SibSp     Parch      Fare\n",
       "PassengerId     1.000000 -0.005028 -0.035330 -0.057686 -0.001657  0.012703\n",
       "Survived       -0.005028  1.000000 -0.335549 -0.034040  0.083151  0.255290\n",
       "Pclass         -0.035330 -0.335549  1.000000  0.081656  0.016824 -0.548193\n",
       "SibSp          -0.057686 -0.034040  0.081656  1.000000  0.414542  0.160887\n",
       "Parch          -0.001657  0.083151  0.016824  0.414542  1.000000  0.217532\n",
       "Fare            0.012703  0.255290 -0.548193  0.160887  0.217532  1.000000"
      ]
     },
     "execution_count": 68,
     "metadata": {},
     "output_type": "execute_result"
    }
   ],
   "source": [
    "# 상관계수 확인\n",
    "train.select_dtypes('number').corr()"
   ]
  },
  {
   "cell_type": "code",
   "execution_count": 69,
   "metadata": {},
   "outputs": [
    {
     "data": {
      "image/png": "[encoded data removed]",
      "text/plain": [
       "<Figure size 1000x1000 with 2 Axes>"
      ]
     },
     "metadata": {},
     "output_type": "display_data"
    }
   ],
   "source": [
    "# 히트맵 확인\n",
    "\n",
    "colormap = plt.cm.PuBu\n",
    "upp_mat = np.triu(train.select_dtypes('number').corr(\"pearson\"))\n",
    "plt.figure(figsize = (10, 10))\n",
    "plt.rcParams['axes.unicode_minus'] = False\n",
    "plt.rc('font', family=\"Malgun Gothic\")\n",
    "plt.title(\"Correlation of Features\", y = 1.05, size = 15)\n",
    "sns.heatmap(train.select_dtypes(exclude=\"object\").corr(\"pearson\"), linewidths = 0.1, vmax = 1.0, vmin = -1.0, square = True,\n",
    "                cmap = colormap, linecolor = \"white\", annot = True, mask = upp_mat)\n",
    "plt.show()\n"
   ]
  },
  {
   "cell_type": "code",
   "execution_count": 71,
   "metadata": {},
   "outputs": [
    {
     "data": {
      "text/html": [
       "<div>\n",
       "<style scoped>\n",
       "    .dataframe tbody tr th:only-of-type {\n",
       "        vertical-align: middle;\n",
       "    }\n",
       "\n",
       "    .dataframe tbody tr th {\n",
       "        vertical-align: top;\n",
       "    }\n",
       "\n",
       "    .dataframe thead th {\n",
       "        text-align: right;\n",
       "    }\n",
       "</style>\n",
       "<table border=\"1\" class=\"dataframe\">\n",
       "  <thead>\n",
       "    <tr style=\"text-align: right;\">\n",
       "      <th></th>\n",
       "      <th>VIF Factor</th>\n",
       "      <th>features</th>\n",
       "    </tr>\n",
       "  </thead>\n",
       "  <tbody>\n",
       "    <tr>\n",
       "      <th>0</th>\n",
       "      <td>3.380779</td>\n",
       "      <td>PassengerId</td>\n",
       "    </tr>\n",
       "    <tr>\n",
       "      <th>1</th>\n",
       "      <td>3.295772</td>\n",
       "      <td>Pclass</td>\n",
       "    </tr>\n",
       "    <tr>\n",
       "      <th>2</th>\n",
       "      <td>1.627675</td>\n",
       "      <td>Fare</td>\n",
       "    </tr>\n",
       "    <tr>\n",
       "      <th>3</th>\n",
       "      <td>1.626236</td>\n",
       "      <td>Survived</td>\n",
       "    </tr>\n",
       "    <tr>\n",
       "      <th>4</th>\n",
       "      <td>1.541573</td>\n",
       "      <td>Parch</td>\n",
       "    </tr>\n",
       "    <tr>\n",
       "      <th>5</th>\n",
       "      <td>1.536913</td>\n",
       "      <td>SibSp</td>\n",
       "    </tr>\n",
       "  </tbody>\n",
       "</table>\n",
       "</div>"
      ],
      "text/plain": [
       "   VIF Factor     features\n",
       "0    3.380779  PassengerId\n",
       "1    3.295772       Pclass\n",
       "2    1.627675         Fare\n",
       "3    1.626236     Survived\n",
       "4    1.541573        Parch\n",
       "5    1.536913        SibSp"
      ]
     },
     "execution_count": 71,
     "metadata": {},
     "output_type": "execute_result"
    }
   ],
   "source": [
    "# VIF 다중공선성 확인\n",
    "\n",
    "from statsmodels.stats.outliers_influence import variance_inflation_factor\n",
    "# VIF 출력을 위한 데이터 프레임 형성\n",
    "vif = pd.DataFrame()\n",
    "\n",
    "# VIF 값과 각 Feature 이름에 대해 설정\n",
    "vif[\"VIF Factor\"] = [variance_inflation_factor(train.select_dtypes('number').values, i) for i in range(train.select_dtypes('number').shape[1])]\n",
    "vif[\"features\"] = train.select_dtypes('number').columns \n",
    "\n",
    "# VIF 값이 높은 순으로 정렬\n",
    "vif = vif.sort_values(by = \"VIF Factor\", ascending = False)\n",
    "vif = vif.reset_index().drop(columns = 'index')\n",
    "vif"
   ]
  },
  {
   "attachments": {},
   "cell_type": "markdown",
   "metadata": {},
   "source": [
    "---\n",
    "## 스케일링\n",
    "\n",
    "- `MinMaxScaler` : 데이터가 0과 1 사이에 위치하도록 스케일링\n",
    "- `MaxAbsScaler` : 데이터가 -1과 1 사이에 위치하도록 스케일링\n",
    "- `StandardScaler` : 데이터의 평균 = 0, 분산 = 1이 되도록 스케일링\n",
    "- `RobustScaler` : 데이터의 중앙값 = 0, IQR = 1이 되도록 스케일\n",
    "\n",
    "    from sklearn.preprocessing import StandardScaler\n",
    "\n",
    "    변형 객체 생성\n",
    "    std_scaler = StandardScaler()\n",
    "\n",
    "    훈련데이터의 모수 분포 저장\n",
    "    std_scaler.fit(X_train)\n",
    "\n",
    "    훈련 데이터 스케일링\n",
    "    X_train_scaled = std_scaler.transform(X_train)\n",
    "\n",
    "    테스트 데이터의 스케일링\n",
    "    X_test_scaled = std_scaler.transform(X_test)\n",
    "\n",
    "     스케일링 된 결과 값을 본래 값으로 되돌리.\n",
    "     X_origin = std_scaler.inverse_transform(X_train_scaled)"
   ]
  },
  {
   "cell_type": "code",
   "execution_count": 72,
   "metadata": {},
   "outputs": [],
   "source": [
    "from sklearn.preprocessing import StandardScaler\n",
    "scale_std = StandardScaler()\n",
    "train_1 = train.copy()\n",
    "\n",
    "train_1_float = train_1.select_dtypes('number')\n",
    "train_1_float = scale_std.fit_transform(train_1_float)\n",
    "train_1_float = pd.DataFrame(train_1_float, columns = train_1.select_dtypes('number').columns)\n",
    "train_1_float\n",
    "\n",
    "for i in train_1_float.columns:\n",
    "    train_1[i] = train_1_float[i]"
   ]
  },
  {
   "cell_type": "code",
   "execution_count": 73,
   "metadata": {},
   "outputs": [],
   "source": [
    "from sklearn.preprocessing import MinMaxScaler\n",
    "scale_std = MinMaxScaler()\n",
    "train_1 = train.copy()\n",
    "\n",
    "train_1_float = train_1.select_dtypes('number')\n",
    "train_1_float = scale_std.fit_transform(train_1_float)\n",
    "train_1_float = pd.DataFrame(train_1_float, columns = train_1.select_dtypes('number').columns)\n",
    "train_1_float\n",
    "\n",
    "for i in train_1_float.columns:\n",
    "    train_1[i] = train_1_float[i]"
   ]
  },
  {
   "cell_type": "code",
   "execution_count": 74,
   "metadata": {},
   "outputs": [],
   "source": [
    "train_1 = train.copy()"
   ]
  },
  {
   "cell_type": "code",
   "execution_count": 75,
   "metadata": {},
   "outputs": [],
   "source": [
    "from sklearn.preprocessing import MinMaxScaler, StandardScaler, RobustScaler\n",
    "\n",
    "def scaler(df, tool):\n",
    "    if tool == \"std\":\n",
    "        scale = StandardScaler()\n",
    "        df_float = scale.fit_transform(df.select_dtypes('number'))\n",
    "        df_float = pd.DataFrame(df_float, columns = df.select_dtypes('number').columns)\n",
    "        for i in df_float.columns:\n",
    "            df[i] = df_float[i]\n",
    "    \n",
    "    if tool == \"min\":\n",
    "        scale = MinMaxScaler()\n",
    "        df_float = scale.fit_transform(df.select_dtypes('number'))\n",
    "        df_float = pd.DataFrame(df_float, columns=df.select_dtypes('number').columns)\n",
    "        for i in df_float.columns:\n",
    "            df[i] = df_float[i]\n",
    "        \n",
    "    if tool == \"robust\":\n",
    "        scale = RobustScaler()\n",
    "        df_float = scale.fit_transform(df.select_dtypes('number'))\n",
    "        df_float = pd.DataFrame(df_float, columns=df.select_dtypes('number').columns)\n",
    "        for i in df_float.columns:\n",
    "            df[i] = df_float[i]\n",
    "    return df      \n",
    "        "
   ]
  },
  {
   "cell_type": "code",
   "execution_count": 76,
   "metadata": {},
   "outputs": [
    {
     "data": {
      "text/html": [
       "<div>\n",
       "<style scoped>\n",
       "    .dataframe tbody tr th:only-of-type {\n",
       "        vertical-align: middle;\n",
       "    }\n",
       "\n",
       "    .dataframe tbody tr th {\n",
       "        vertical-align: top;\n",
       "    }\n",
       "\n",
       "    .dataframe thead th {\n",
       "        text-align: right;\n",
       "    }\n",
       "</style>\n",
       "<table border=\"1\" class=\"dataframe\">\n",
       "  <thead>\n",
       "    <tr style=\"text-align: right;\">\n",
       "      <th></th>\n",
       "      <th>PassengerId</th>\n",
       "      <th>Survived</th>\n",
       "      <th>Pclass</th>\n",
       "      <th>SibSp</th>\n",
       "      <th>Parch</th>\n",
       "      <th>Fare</th>\n",
       "    </tr>\n",
       "  </thead>\n",
       "  <tbody>\n",
       "    <tr>\n",
       "      <th>count</th>\n",
       "      <td>887.000000</td>\n",
       "      <td>887.000000</td>\n",
       "      <td>887.000000</td>\n",
       "      <td>887.000000</td>\n",
       "      <td>887.000000</td>\n",
       "      <td>887.000000</td>\n",
       "    </tr>\n",
       "    <tr>\n",
       "      <th>mean</th>\n",
       "      <td>0.499996</td>\n",
       "      <td>0.382187</td>\n",
       "      <td>0.656708</td>\n",
       "      <td>0.065389</td>\n",
       "      <td>0.063698</td>\n",
       "      <td>0.062565</td>\n",
       "    </tr>\n",
       "    <tr>\n",
       "      <th>std</th>\n",
       "      <td>0.288358</td>\n",
       "      <td>0.486196</td>\n",
       "      <td>0.417206</td>\n",
       "      <td>0.138090</td>\n",
       "      <td>0.134550</td>\n",
       "      <td>0.097050</td>\n",
       "    </tr>\n",
       "    <tr>\n",
       "      <th>min</th>\n",
       "      <td>0.000000</td>\n",
       "      <td>0.000000</td>\n",
       "      <td>0.000000</td>\n",
       "      <td>0.000000</td>\n",
       "      <td>0.000000</td>\n",
       "      <td>0.000000</td>\n",
       "    </tr>\n",
       "    <tr>\n",
       "      <th>25%</th>\n",
       "      <td>0.251124</td>\n",
       "      <td>0.000000</td>\n",
       "      <td>0.500000</td>\n",
       "      <td>0.000000</td>\n",
       "      <td>0.000000</td>\n",
       "      <td>0.015412</td>\n",
       "    </tr>\n",
       "    <tr>\n",
       "      <th>50%</th>\n",
       "      <td>0.500000</td>\n",
       "      <td>0.000000</td>\n",
       "      <td>1.000000</td>\n",
       "      <td>0.000000</td>\n",
       "      <td>0.000000</td>\n",
       "      <td>0.028213</td>\n",
       "    </tr>\n",
       "    <tr>\n",
       "      <th>75%</th>\n",
       "      <td>0.748876</td>\n",
       "      <td>1.000000</td>\n",
       "      <td>1.000000</td>\n",
       "      <td>0.125000</td>\n",
       "      <td>0.000000</td>\n",
       "      <td>0.060211</td>\n",
       "    </tr>\n",
       "    <tr>\n",
       "      <th>max</th>\n",
       "      <td>1.000000</td>\n",
       "      <td>1.000000</td>\n",
       "      <td>1.000000</td>\n",
       "      <td>1.000000</td>\n",
       "      <td>1.000000</td>\n",
       "      <td>1.000000</td>\n",
       "    </tr>\n",
       "  </tbody>\n",
       "</table>\n",
       "</div>"
      ],
      "text/plain": [
       "       PassengerId    Survived      Pclass       SibSp       Parch        Fare\n",
       "count   887.000000  887.000000  887.000000  887.000000  887.000000  887.000000\n",
       "mean      0.499996    0.382187    0.656708    0.065389    0.063698    0.062565\n",
       "std       0.288358    0.486196    0.417206    0.138090    0.134550    0.097050\n",
       "min       0.000000    0.000000    0.000000    0.000000    0.000000    0.000000\n",
       "25%       0.251124    0.000000    0.500000    0.000000    0.000000    0.015412\n",
       "50%       0.500000    0.000000    1.000000    0.000000    0.000000    0.028213\n",
       "75%       0.748876    1.000000    1.000000    0.125000    0.000000    0.060211\n",
       "max       1.000000    1.000000    1.000000    1.000000    1.000000    1.000000"
      ]
     },
     "execution_count": 76,
     "metadata": {},
     "output_type": "execute_result"
    }
   ],
   "source": [
    "scaler(train_1, \"min\").describe()"
   ]
  },
  {
   "cell_type": "code",
   "execution_count": 77,
   "metadata": {},
   "outputs": [
    {
     "data": {
      "text/html": [
       "<div>\n",
       "<style scoped>\n",
       "    .dataframe tbody tr th:only-of-type {\n",
       "        vertical-align: middle;\n",
       "    }\n",
       "\n",
       "    .dataframe tbody tr th {\n",
       "        vertical-align: top;\n",
       "    }\n",
       "\n",
       "    .dataframe thead th {\n",
       "        text-align: right;\n",
       "    }\n",
       "</style>\n",
       "<table border=\"1\" class=\"dataframe\">\n",
       "  <thead>\n",
       "    <tr style=\"text-align: right;\">\n",
       "      <th></th>\n",
       "      <th>PassengerId</th>\n",
       "      <th>Survived</th>\n",
       "      <th>Pclass</th>\n",
       "      <th>SibSp</th>\n",
       "      <th>Parch</th>\n",
       "      <th>Fare</th>\n",
       "    </tr>\n",
       "  </thead>\n",
       "  <tbody>\n",
       "    <tr>\n",
       "      <th>count</th>\n",
       "      <td>885.000000</td>\n",
       "      <td>885.000000</td>\n",
       "      <td>885.000000</td>\n",
       "      <td>885.000000</td>\n",
       "      <td>885.000000</td>\n",
       "      <td>885.000000</td>\n",
       "    </tr>\n",
       "    <tr>\n",
       "      <th>mean</th>\n",
       "      <td>-0.000026</td>\n",
       "      <td>0.001777</td>\n",
       "      <td>-0.001861</td>\n",
       "      <td>-0.002000</td>\n",
       "      <td>-0.001730</td>\n",
       "      <td>0.000645</td>\n",
       "    </tr>\n",
       "    <tr>\n",
       "      <th>std</th>\n",
       "      <td>0.999148</td>\n",
       "      <td>1.000995</td>\n",
       "      <td>1.000928</td>\n",
       "      <td>0.998721</td>\n",
       "      <td>0.999294</td>\n",
       "      <td>1.001557</td>\n",
       "    </tr>\n",
       "    <tr>\n",
       "      <th>min</th>\n",
       "      <td>-1.734920</td>\n",
       "      <td>-0.786520</td>\n",
       "      <td>-1.574951</td>\n",
       "      <td>-0.473792</td>\n",
       "      <td>-0.473680</td>\n",
       "      <td>-0.645030</td>\n",
       "    </tr>\n",
       "    <tr>\n",
       "      <th>25%</th>\n",
       "      <td>-0.861605</td>\n",
       "      <td>-0.786520</td>\n",
       "      <td>-0.375825</td>\n",
       "      <td>-0.473792</td>\n",
       "      <td>-0.473680</td>\n",
       "      <td>-0.486140</td>\n",
       "    </tr>\n",
       "    <tr>\n",
       "      <th>50%</th>\n",
       "      <td>0.000013</td>\n",
       "      <td>-0.786520</td>\n",
       "      <td>0.823301</td>\n",
       "      <td>-0.473792</td>\n",
       "      <td>-0.473680</td>\n",
       "      <td>-0.354163</td>\n",
       "    </tr>\n",
       "    <tr>\n",
       "      <th>75%</th>\n",
       "      <td>0.861632</td>\n",
       "      <td>1.271424</td>\n",
       "      <td>0.823301</td>\n",
       "      <td>0.431927</td>\n",
       "      <td>-0.473680</td>\n",
       "      <td>-0.021206</td>\n",
       "    </tr>\n",
       "    <tr>\n",
       "      <th>max</th>\n",
       "      <td>1.734947</td>\n",
       "      <td>1.271424</td>\n",
       "      <td>0.823301</td>\n",
       "      <td>6.771960</td>\n",
       "      <td>6.962676</td>\n",
       "      <td>9.664745</td>\n",
       "    </tr>\n",
       "  </tbody>\n",
       "</table>\n",
       "</div>"
      ],
      "text/plain": [
       "       PassengerId    Survived      Pclass       SibSp       Parch        Fare\n",
       "count   885.000000  885.000000  885.000000  885.000000  885.000000  885.000000\n",
       "mean     -0.000026    0.001777   -0.001861   -0.002000   -0.001730    0.000645\n",
       "std       0.999148    1.000995    1.000928    0.998721    0.999294    1.001557\n",
       "min      -1.734920   -0.786520   -1.574951   -0.473792   -0.473680   -0.645030\n",
       "25%      -0.861605   -0.786520   -0.375825   -0.473792   -0.473680   -0.486140\n",
       "50%       0.000013   -0.786520    0.823301   -0.473792   -0.473680   -0.354163\n",
       "75%       0.861632    1.271424    0.823301    0.431927   -0.473680   -0.021206\n",
       "max       1.734947    1.271424    0.823301    6.771960    6.962676    9.664745"
      ]
     },
     "execution_count": 77,
     "metadata": {},
     "output_type": "execute_result"
    }
   ],
   "source": [
    "scaler(train_1, \"std\").describe()"
   ]
  },
  {
   "cell_type": "code",
   "execution_count": 78,
   "metadata": {},
   "outputs": [
    {
     "data": {
      "text/html": [
       "<div>\n",
       "<style scoped>\n",
       "    .dataframe tbody tr th:only-of-type {\n",
       "        vertical-align: middle;\n",
       "    }\n",
       "\n",
       "    .dataframe tbody tr th {\n",
       "        vertical-align: top;\n",
       "    }\n",
       "\n",
       "    .dataframe thead th {\n",
       "        text-align: right;\n",
       "    }\n",
       "</style>\n",
       "<table border=\"1\" class=\"dataframe\">\n",
       "  <thead>\n",
       "    <tr style=\"text-align: right;\">\n",
       "      <th></th>\n",
       "      <th>PassengerId</th>\n",
       "      <th>Survived</th>\n",
       "      <th>Pclass</th>\n",
       "      <th>SibSp</th>\n",
       "      <th>Parch</th>\n",
       "      <th>Fare</th>\n",
       "    </tr>\n",
       "  </thead>\n",
       "  <tbody>\n",
       "    <tr>\n",
       "      <th>count</th>\n",
       "      <td>889.000000</td>\n",
       "      <td>889.000000</td>\n",
       "      <td>889.000000</td>\n",
       "      <td>889.000000</td>\n",
       "      <td>889.000000</td>\n",
       "      <td>889.000000</td>\n",
       "    </tr>\n",
       "    <tr>\n",
       "      <th>mean</th>\n",
       "      <td>446.000000</td>\n",
       "      <td>0.382452</td>\n",
       "      <td>2.311586</td>\n",
       "      <td>0.524184</td>\n",
       "      <td>0.382452</td>\n",
       "      <td>32.096681</td>\n",
       "    </tr>\n",
       "    <tr>\n",
       "      <th>std</th>\n",
       "      <td>256.998173</td>\n",
       "      <td>0.486260</td>\n",
       "      <td>0.834700</td>\n",
       "      <td>1.103705</td>\n",
       "      <td>0.806761</td>\n",
       "      <td>49.697504</td>\n",
       "    </tr>\n",
       "    <tr>\n",
       "      <th>min</th>\n",
       "      <td>1.000000</td>\n",
       "      <td>0.000000</td>\n",
       "      <td>1.000000</td>\n",
       "      <td>0.000000</td>\n",
       "      <td>0.000000</td>\n",
       "      <td>0.000000</td>\n",
       "    </tr>\n",
       "    <tr>\n",
       "      <th>25%</th>\n",
       "      <td>224.000000</td>\n",
       "      <td>0.000000</td>\n",
       "      <td>2.000000</td>\n",
       "      <td>0.000000</td>\n",
       "      <td>0.000000</td>\n",
       "      <td>7.895800</td>\n",
       "    </tr>\n",
       "    <tr>\n",
       "      <th>50%</th>\n",
       "      <td>446.000000</td>\n",
       "      <td>0.000000</td>\n",
       "      <td>3.000000</td>\n",
       "      <td>0.000000</td>\n",
       "      <td>0.000000</td>\n",
       "      <td>14.454200</td>\n",
       "    </tr>\n",
       "    <tr>\n",
       "      <th>75%</th>\n",
       "      <td>668.000000</td>\n",
       "      <td>1.000000</td>\n",
       "      <td>3.000000</td>\n",
       "      <td>1.000000</td>\n",
       "      <td>0.000000</td>\n",
       "      <td>31.000000</td>\n",
       "    </tr>\n",
       "    <tr>\n",
       "      <th>max</th>\n",
       "      <td>891.000000</td>\n",
       "      <td>1.000000</td>\n",
       "      <td>3.000000</td>\n",
       "      <td>8.000000</td>\n",
       "      <td>6.000000</td>\n",
       "      <td>512.329200</td>\n",
       "    </tr>\n",
       "  </tbody>\n",
       "</table>\n",
       "</div>"
      ],
      "text/plain": [
       "       PassengerId    Survived      Pclass       SibSp       Parch        Fare\n",
       "count   889.000000  889.000000  889.000000  889.000000  889.000000  889.000000\n",
       "mean    446.000000    0.382452    2.311586    0.524184    0.382452   32.096681\n",
       "std     256.998173    0.486260    0.834700    1.103705    0.806761   49.697504\n",
       "min       1.000000    0.000000    1.000000    0.000000    0.000000    0.000000\n",
       "25%     224.000000    0.000000    2.000000    0.000000    0.000000    7.895800\n",
       "50%     446.000000    0.000000    3.000000    0.000000    0.000000   14.454200\n",
       "75%     668.000000    1.000000    3.000000    1.000000    0.000000   31.000000\n",
       "max     891.000000    1.000000    3.000000    8.000000    6.000000  512.329200"
      ]
     },
     "execution_count": 78,
     "metadata": {},
     "output_type": "execute_result"
    }
   ],
   "source": [
    "train.describe()"
   ]
  }
 ],
 "metadata": {
  "kernelspec": {
   "display_name": "Python 3",
   "language": "python",
   "name": "python3"
  },
  "language_info": {
   "codemirror_mode": {
    "name": "ipython",
    "version": 3
   },
   "file_extension": ".py",
   "mimetype": "text/x-python",
   "name": "python",
   "nbconvert_exporter": "python",
   "pygments_lexer": "ipython3",
   "version": "3.11.3"
  },
  "orig_nbformat": 4
 },
 "nbformat": 4,
 "nbformat_minor": 2
}
